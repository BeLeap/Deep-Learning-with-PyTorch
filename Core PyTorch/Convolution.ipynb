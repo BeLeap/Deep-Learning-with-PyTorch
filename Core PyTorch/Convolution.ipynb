{
 "cells": [
  {
   "cell_type": "code",
   "execution_count": 1,
   "id": "e3b95595",
   "metadata": {},
   "outputs": [],
   "source": [
    "import torch\n",
    "import torch.nn as nn"
   ]
  },
  {
   "cell_type": "code",
   "execution_count": 2,
   "id": "0f899702",
   "metadata": {},
   "outputs": [
    {
     "data": {
      "text/plain": [
       "Conv2d(3, 16, kernel_size=(3, 3), stride=(1, 1))"
      ]
     },
     "execution_count": 2,
     "metadata": {},
     "output_type": "execute_result"
    }
   ],
   "source": [
    "conv = nn.Conv2d(3, 16, kernel_size=3)\n",
    "conv"
   ]
  },
  {
   "cell_type": "code",
   "execution_count": 3,
   "id": "10694ec2",
   "metadata": {},
   "outputs": [
    {
     "data": {
      "text/plain": [
       "(torch.Size([16, 3, 3, 3]), torch.Size([16]))"
      ]
     },
     "execution_count": 3,
     "metadata": {},
     "output_type": "execute_result"
    }
   ],
   "source": [
    "conv.weight.shape, conv.bias.shape"
   ]
  },
  {
   "cell_type": "code",
   "execution_count": 4,
   "id": "587e1caf",
   "metadata": {},
   "outputs": [
    {
     "name": "stdout",
     "output_type": "stream",
     "text": [
      "Files already downloaded and verified\n"
     ]
    }
   ],
   "source": [
    "from torchvision import datasets, transforms\n",
    "\n",
    "data_path = '../data-unversioned/p1ch6/'\n",
    "cifar10 = datasets.CIFAR10(\n",
    "    data_path, train=True, download=True,\n",
    "    transform=transforms.Compose([\n",
    "        transforms.ToTensor(),\n",
    "        transforms.Normalize((0.4915, 0.4823, 0.4468),\n",
    "                             (0.2470, 0.2435, 0.2616))\n",
    "    ]))"
   ]
  },
  {
   "cell_type": "code",
   "execution_count": 5,
   "id": "9e1361df",
   "metadata": {},
   "outputs": [
    {
     "name": "stdout",
     "output_type": "stream",
     "text": [
      "Files already downloaded and verified\n"
     ]
    }
   ],
   "source": [
    "cifar10_val = datasets.CIFAR10(\n",
    "    data_path, train=False, download=True,\n",
    "    transform=transforms.Compose([\n",
    "        transforms.ToTensor(),\n",
    "        transforms.Normalize((0.4915, 0.4823, 0.4468),\n",
    "                             (0.2470, 0.2435, 0.2616))\n",
    "    ]))"
   ]
  },
  {
   "cell_type": "code",
   "execution_count": 6,
   "id": "a7249e84",
   "metadata": {},
   "outputs": [],
   "source": [
    "label_map = {0: 0, 2: 1}\n",
    "class_names = ['airplane', 'bird']\n",
    "cifar2 = [(img, label_map[label])\n",
    "          for img, label in cifar10\n",
    "          if label in [0, 2]]\n",
    "cifar2_val = [(img, label_map[label])\n",
    "              for img, label in cifar10_val\n",
    "              if label in [0, 2]]"
   ]
  },
  {
   "cell_type": "code",
   "execution_count": 7,
   "id": "f68b6774",
   "metadata": {},
   "outputs": [
    {
     "data": {
      "text/plain": [
       "(torch.Size([1, 3, 32, 32]), torch.Size([1, 16, 30, 30]))"
      ]
     },
     "execution_count": 7,
     "metadata": {},
     "output_type": "execute_result"
    }
   ],
   "source": [
    "img, _ = cifar2[0]\n",
    "output = conv(img.unsqueeze(0))\n",
    "img.unsqueeze(0).shape, output.shape"
   ]
  },
  {
   "cell_type": "code",
   "execution_count": 8,
   "id": "a32d3ff9",
   "metadata": {},
   "outputs": [
    {
     "data": {
      "image/png": "[encoded data removed]",
      "text/plain": [
       "<Figure size 432x288 with 1 Axes>"
      ]
     },
     "metadata": {
      "needs_background": "light"
     },
     "output_type": "display_data"
    }
   ],
   "source": [
    "from matplotlib import pyplot as plt\n",
    "\n",
    "plt.imshow(output[0, 0].detach(), cmap='gray')\n",
    "plt.show()"
   ]
  },
  {
   "cell_type": "code",
   "execution_count": 9,
   "id": "63ac11ec",
   "metadata": {},
   "outputs": [
    {
     "data": {
      "text/plain": [
       "(torch.Size([1, 3, 32, 32]), torch.Size([1, 1, 32, 32]))"
      ]
     },
     "execution_count": 9,
     "metadata": {},
     "output_type": "execute_result"
    }
   ],
   "source": [
    "conv = nn.Conv2d(3, 1, kernel_size=3, padding=1)\n",
    "output = conv(img.unsqueeze(0))\n",
    "img.unsqueeze(0).shape, output.shape"
   ]
  },
  {
   "cell_type": "code",
   "execution_count": 10,
   "id": "54588f3b",
   "metadata": {},
   "outputs": [
    {
     "data": {
      "image/png": "[encoded data removed]",
      "text/plain": [
       "<Figure size 432x288 with 1 Axes>"
      ]
     },
     "metadata": {
      "needs_background": "light"
     },
     "output_type": "display_data"
    }
   ],
   "source": [
    "with torch.no_grad():\n",
    "    conv.bias.zero_()\n",
    "    conv.weight.fill_(1.0 / 9.0)\n",
    "\n",
    "output = conv(img.unsqueeze(0))\n",
    "plt.imshow(output[0, 0].detach(), cmap='gray')\n",
    "plt.show()"
   ]
  },
  {
   "cell_type": "code",
   "execution_count": 11,
   "id": "e929855e",
   "metadata": {},
   "outputs": [
    {
     "data": {
      "image/png": "[encoded data removed]",
      "text/plain": [
       "<Figure size 432x288 with 1 Axes>"
      ]
     },
     "metadata": {
      "needs_background": "light"
     },
     "output_type": "display_data"
    }
   ],
   "source": [
    "conv = nn.Conv2d(3, 1, kernel_size=3, padding=1)\n",
    "\n",
    "with torch.no_grad():\n",
    "    conv.weight[:] = torch.tensor([[-1.0, 0.0, 1.0],\n",
    "                                   [-1.0, 0.0, 1.0],\n",
    "                                   [-1.0, 0.0, 1.0]])\n",
    "    # (Vertical) Edge Detect Kernel\n",
    "    conv.bias.zero_()\n",
    "    \n",
    "output = conv(img.unsqueeze(0))\n",
    "plt.imshow(output[0][0].detach(), cmap='gray')\n",
    "plt.show()"
   ]
  },
  {
   "cell_type": "code",
   "execution_count": 12,
   "id": "205f784c",
   "metadata": {},
   "outputs": [
    {
     "data": {
      "text/plain": [
       "(torch.Size([1, 3, 32, 32]), torch.Size([1, 3, 16, 16]))"
      ]
     },
     "execution_count": 12,
     "metadata": {},
     "output_type": "execute_result"
    }
   ],
   "source": [
    "pool = nn.MaxPool2d(2)\n",
    "output = pool(img.unsqueeze(0))\n",
    "\n",
    "img.unsqueeze(0).shape, output.shape"
   ]
  },
  {
   "cell_type": "code",
   "execution_count": 13,
   "id": "f7fa94ff",
   "metadata": {},
   "outputs": [],
   "source": [
    "model = nn.Sequential(\n",
    "    nn.Conv2d(3, 16, kernel_size=3, padding=1),\n",
    "    nn.Tanh(),\n",
    "    nn.MaxPool2d(2),\n",
    "    nn.Conv2d(16, 8, kernel_size=3, padding=1),\n",
    "    nn.Tanh(),\n",
    "    nn.MaxPool2d(2),\n",
    "    # something missing here\n",
    "    nn.Linear(8 * 8 * 8, 32),\n",
    "    nn.Tanh(),\n",
    "    nn.Linear(32, 2),\n",
    ")"
   ]
  },
  {
   "cell_type": "code",
   "execution_count": 14,
   "id": "cd6b95db",
   "metadata": {},
   "outputs": [],
   "source": [
    "class Net(nn.Module):\n",
    "    def __init__(self):\n",
    "        super().__init__()\n",
    "        self.conv1 = nn.Conv2d(3, 16, kernel_size=3, padding=1)\n",
    "        self.act1 = nn.Tanh()\n",
    "        self.pool1 = nn.MaxPool2d(2)\n",
    "        self.conv2 = nn.Conv2d(16, 8, kernel_size=3, padding=1)\n",
    "        self.act2 = nn.Tanh()\n",
    "        self.pool2 = nn.MaxPool2d(2)\n",
    "        self.fc1 = nn.Linear(8 * 8 * 8, 32)\n",
    "        self.act3 = nn.Tanh()\n",
    "        self.fc2 = nn.Linear(32, 2)\n",
    "        \n",
    "    def forward(self, x):\n",
    "        out = self.pool1(self.act1(self.conv1(x)))\n",
    "        out = self.pool2(self.act2(self.conv2(out)))\n",
    "        out = out.view(-1, 8 * 8 * 8) # the missing one\n",
    "        out = self.act3(self.fc1(out))\n",
    "        out = self.fc2(out)\n",
    "        return out"
   ]
  },
  {
   "cell_type": "code",
   "execution_count": 15,
   "id": "b4def87c",
   "metadata": {},
   "outputs": [
    {
     "data": {
      "text/plain": [
       "(18090, [432, 16, 1152, 8, 16384, 32, 64, 2])"
      ]
     },
     "execution_count": 15,
     "metadata": {},
     "output_type": "execute_result"
    }
   ],
   "source": [
    "model = Net()\n",
    "\n",
    "numel_list = [p.numel() for p in model.parameters()]\n",
    "sum(numel_list), numel_list"
   ]
  },
  {
   "cell_type": "code",
   "execution_count": 16,
   "id": "de94d44e",
   "metadata": {},
   "outputs": [],
   "source": [
    "import torch.nn.functional as F\n",
    "\n",
    "class Net(nn.Module):\n",
    "    def __init__(self):\n",
    "        super().__init__()\n",
    "        self.conv1 = nn.Conv2d(3, 16, kernel_size=3, padding=1)\n",
    "        self.conv2 = nn.Conv2d(16, 8, kernel_size=3, padding=1)\n",
    "        self.fc1 = nn.Linear(8 * 8 * 8, 32)\n",
    "        self.fc2 = nn.Linear(32, 2)\n",
    "        \n",
    "    def forward(self, x):\n",
    "        out = F.max_pool2d(torch.tanh(self.conv1(x)), 2)\n",
    "        out = F.max_pool2d(torch.tanh(self.conv2(out)), 2)\n",
    "        out = out.view(-1, 8 * 8 * 8)\n",
    "        out = torch.tanh(self.fc1(out))\n",
    "        out = self.fc2(out)\n",
    "        return out"
   ]
  },
  {
   "cell_type": "code",
   "execution_count": 17,
   "id": "34ae55b7",
   "metadata": {},
   "outputs": [
    {
     "data": {
      "text/plain": [
       "tensor([[ 0.2421, -0.1438]], grad_fn=<AddmmBackward0>)"
      ]
     },
     "execution_count": 17,
     "metadata": {},
     "output_type": "execute_result"
    }
   ],
   "source": [
    "model = Net()\n",
    "model(img.unsqueeze(0))"
   ]
  },
  {
   "cell_type": "code",
   "execution_count": 18,
   "id": "63ced90d",
   "metadata": {},
   "outputs": [],
   "source": [
    "import datetime\n",
    "\n",
    "def training_loop(n_epochs, optimizer, model, loss_fn, train_loader):\n",
    "\tfor epoch in range(1, n_epochs + 1):\n",
    "\t\tloss_train = 0.0\n",
    "\t\tfor imgs, labels in train_loader:\n",
    "\t\t\timgs, labels = imgs.to('cuda'), labels.to('cuda')\n",
    "\t\t\toutputs = model(imgs)\n",
    "\t\t\tloss = loss_fn(outputs, labels)\n",
    "\t\t\toptimizer.zero_grad()\n",
    "\t\t\tloss.backward()\n",
    "\t\t\toptimizer.step()\n",
    "\t\t\tloss_train += loss.item()\n",
    "\n",
    "\t\tif epoch == 1 or epoch % 10 == 0:\n",
    "\t\t\tprint('{} Epoch {}, Training loss {}'.format(\n",
    "\t\t\t\tdatetime.datetime.now(),\n",
    "\t\t\t\tepoch,\n",
    "\t\t\t\tloss_train / len(train_loader),\n",
    "\t\t\t))"
   ]
  },
  {
   "cell_type": "code",
   "execution_count": 19,
   "id": "7cec3194",
   "metadata": {},
   "outputs": [
    {
     "name": "stdout",
     "output_type": "stream",
     "text": [
      "2021-12-31 15:32:02.546227 Epoch 1, Training loss 0.5596151281693938\n",
      "2021-12-31 15:32:10.537539 Epoch 10, Training loss 0.3318776236787723\n",
      "2021-12-31 15:32:20.153059 Epoch 20, Training loss 0.30106016386086776\n",
      "2021-12-31 15:32:27.232879 Epoch 30, Training loss 0.2766238406870016\n",
      "2021-12-31 15:32:34.173084 Epoch 40, Training loss 0.25991547544291066\n",
      "2021-12-31 15:32:44.842741 Epoch 50, Training loss 0.24357405974037327\n",
      "2021-12-31 15:32:53.573345 Epoch 60, Training loss 0.2312585475623228\n",
      "2021-12-31 15:33:05.335435 Epoch 70, Training loss 0.21404346083379855\n",
      "2021-12-31 15:33:13.548172 Epoch 80, Training loss 0.200139218882011\n",
      "2021-12-31 15:33:22.482307 Epoch 90, Training loss 0.18679168350567485\n",
      "2021-12-31 15:33:31.852074 Epoch 100, Training loss 0.17270403132317172\n"
     ]
    }
   ],
   "source": [
    "import torch.optim as optim\n",
    "\n",
    "train_loader = torch.utils.data.DataLoader(cifar2, batch_size=64, shuffle=True)\n",
    "\n",
    "model = Net().to('cuda')\n",
    "optimizer = optim.SGD(model.parameters(), lr=1e-2)\n",
    "loss_fn = nn.CrossEntropyLoss()\n",
    "\n",
    "training_loop(\n",
    "\tn_epochs = 100,\n",
    "\toptimizer = optimizer,\n",
    "\tmodel = model,\n",
    "\tloss_fn = loss_fn,\n",
    "\ttrain_loader = train_loader,\n",
    ")"
   ]
  },
  {
   "cell_type": "code",
   "execution_count": 20,
   "id": "91998cb0",
   "metadata": {},
   "outputs": [
    {
     "name": "stdout",
     "output_type": "stream",
     "text": [
      "Accuracy: train: 0.86\n",
      "Accuracy: val: 0.82\n"
     ]
    }
   ],
   "source": [
    "train_loader = torch.utils.data.DataLoader(cifar2, batch_size=64, shuffle=False)\n",
    "val_loader = torch.utils.data.DataLoader(cifar2_val, batch_size=64, shuffle=False)\n",
    "\n",
    "def validate(model, train_loader, val_loader):\n",
    "\tfor name, loader in [(\"train\", train_loader), (\"val\", val_loader)]:\n",
    "\t\tcorrect = 0\n",
    "\t\ttotal = 0\n",
    "\n",
    "\t\twith torch.no_grad():\n",
    "\t\t\tfor imgs, labels in loader:\n",
    "\t\t\t\timgs, labels = imgs.to('cuda'), labels.to('cuda')\n",
    "\t\t\t\toutputs = model(imgs)\n",
    "\t\t\t\t_, predicted = torch.max(outputs, dim=1)\n",
    "\t\t\t\ttotal += labels.shape[0]\n",
    "\t\t\t\tcorrect += int((predicted == labels).sum())\n",
    "\n",
    "\t\tprint(\"Accuracy: {}: {:.2f}\".format(name, correct / total))\n",
    "\n",
    "validate(model, train_loader, val_loader)"
   ]
  },
  {
   "cell_type": "code",
   "execution_count": 21,
   "id": "7930a1d4",
   "metadata": {},
   "outputs": [],
   "source": [
    "torch.save(model.state_dict(), data_path + 'birds_vs_airplanes.pt')"
   ]
  },
  {
   "cell_type": "code",
   "execution_count": 22,
   "id": "b95d2ace",
   "metadata": {},
   "outputs": [
    {
     "data": {
      "text/plain": [
       "<All keys matched successfully>"
      ]
     },
     "execution_count": 22,
     "metadata": {},
     "output_type": "execute_result"
    }
   ],
   "source": [
    "loaded_model = Net()\n",
    "loaded_model.load_state_dict(torch.load(data_path + 'birds_vs_airplanes.pt'))"
   ]
  },
  {
   "cell_type": "code",
   "execution_count": 23,
   "id": "5dcdb354",
   "metadata": {},
   "outputs": [],
   "source": [
    "class NetWidth(nn.Module):\n",
    "\tdef __init__(self):\n",
    "\t\tsuper().__init__()\n",
    "\t\tself.conv1 = nn.Conv2d(3, 32, kernel_size=3, padding=1)\n",
    "\t\tself.conv2 = nn.Conv2d(32, 16, kernel_size=3, padding=1)\n",
    "\t\tself.fc1 = nn.Linear(16 * 8 * 8, 32)\n",
    "\t\tself.fc2 = nn.Linear(32, 2)\n",
    "\n",
    "\tdef forward(self, x):\n",
    "\t\tout = F.max_pool2d(torch.tanh(self.conv1(x)), 2)\n",
    "\t\tout = F.max_pool2d(torch.tanh(self.conv2(out)), 2)\n",
    "\t\tout = out.view(-1, 16 * 8 * 8 * 8)\n",
    "\t\tout = torch.tanh(self.fc1(out))\n",
    "\t\tout = self.fc2(out)\n",
    "\n",
    "\t\treturn out"
   ]
  },
  {
   "cell_type": "code",
   "execution_count": 24,
   "id": "6b22639c",
   "metadata": {},
   "outputs": [],
   "source": [
    "class NetWidth(nn.Module):\n",
    "\tdef __init__(self, n_chans1=32):\n",
    "\t\tsuper().__init__()\n",
    "\t\tself.n_chans1 = n_chans1\n",
    "\t\tself.conv1 = nn.Conv2d(3, n_chans1, kernel_size=3, padding=1)\n",
    "\t\tself.conv2 = nn.Conv2d(n_chans1, n_chans1 // 2, kernel_size=3, padding=1)\n",
    "\t\tself.fc1 = nn.Linear(8 * 8 * n_chans1 // 2, 32)\n",
    "\t\tself.fc2 = nn.Linear(32, 2)\n",
    "\n",
    "\tdef forward(self, x):\n",
    "\t\tout = F.max_pool2d(torch.tanh(self.conv1(x)), 2)\n",
    "\t\tout = F.max_pool2d(torch.tanh(out), 2)\n",
    "\t\tout = out.view(-1, 8 * 8 * self.n_chans // 2)\n",
    "\t\tout = torch.tanh(self.fc1(out))\n",
    "\t\tout = self.fc2(out)\n",
    "\n",
    "\t\treturn out"
   ]
  },
  {
   "cell_type": "code",
   "execution_count": 25,
   "id": "d33b5e8a",
   "metadata": {},
   "outputs": [],
   "source": [
    "def training_loop_12reg(n_epochs, optimizer, model, loss_fn, train_loader):\n",
    "\tfor epoch in range(1, n_epochs + 1):\n",
    "\t\tloss_train = 0.0\n",
    "\t\tfor imgs, labels in train_loader:\n",
    "\t\t\timgs, labels = imgs.to('cuda'), labels.to('cuda')\n",
    "\t\t\toutputs = model(imgs)\n",
    "\t\t\tloss = loss_fn(outputs, labels)\n",
    "\n",
    "\t\t\tlambda_12 = 0.001\n",
    "\t\t\tnorm_12 = sum(p.pow(2.0).sum() for p in model.parameters())\n",
    "\t\t\tloss = loss + lambda_12 * norm_12\n",
    "\n",
    "\t\t\toptimizer.zero_grad()\n",
    "\t\t\tloss.backward()\n",
    "\t\t\toptimizer.step()\n",
    "\n",
    "\t\t\tloss_train += loss.item()\n",
    "\n",
    "\t\tif epoch == 1 or epoch % 10 == 0:\n",
    "\t\t\tprint('{} Epoch {}, Training Loss {}'.format(datetime.datetime.now(), epoch, loss_train / len(train_loader)))"
   ]
  },
  {
   "cell_type": "code",
   "execution_count": 26,
   "id": "ffefe17e",
   "metadata": {},
   "outputs": [],
   "source": [
    "class NetDropout(nn.Module):\n",
    "\tdef __init__(self, n_chans1=32):\n",
    "\t\tsuper().__init__()\n",
    "\t\tself.conv1 = nn.Conv2d(3, n_chans1, kernel_size=3, padding=1)\n",
    "\t\tself.conv1_dropout = nn.Dropout2d(p=0.4)\n",
    "\t\tself.conv2 = nn.Conv2d(n_chans1, n_chans1 // 2, kernel_size=3,padding=1)\n",
    "\t\tself.conv2_dropout = nn.Dropout2d(p=0.4)\n",
    "\t\tself.fc1 = nn.Linear(8 * 8 * n_chans1 // 2, 32)\n",
    "\t\tself.fc2 = nn.Linear(32, 2)\n",
    "\n",
    "\tdef forward(self, x):\n",
    "\t\tout = F.max_pool2d(torch.tanh(self.conv1(x)), 2)\n",
    "\t\tout = self.conv1_dropout(out)\n",
    "\t\tout = F.max_pool2d(torch.tanh(self.conv2(out)), 2)\n",
    "\t\tout = self.conv2_dropout(out)\n",
    "\t\tout = out.view(-1, 8 * 8 * self.n_chans1 // 2)\n",
    "\t\tout = torch.tanh(self.fc1(out))\n",
    "\t\tout = self.fc2(out)\n",
    "\t\treturn out"
   ]
  },
  {
   "cell_type": "code",
   "execution_count": null,
   "id": "7ac6414d",
   "metadata": {},
   "outputs": [],
   "source": []
  }
 ],
 "metadata": {
  "kernelspec": {
   "display_name": "Python 3 (ipykernel)",
   "language": "python",
   "name": "python3"
  },
  "language_info": {
   "codemirror_mode": {
    "name": "ipython",
    "version": 3
   },
   "file_extension": ".py",
   "mimetype": "text/x-python",
   "name": "python",
   "nbconvert_exporter": "python",
   "pygments_lexer": "ipython3",
   "version": "3.9.7"
  }
 },
 "nbformat": 4,
 "nbformat_minor": 5
}
